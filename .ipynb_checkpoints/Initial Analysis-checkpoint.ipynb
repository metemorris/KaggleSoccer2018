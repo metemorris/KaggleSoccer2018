{
 "cells": [
  {
   "cell_type": "code",
   "execution_count": 1,
   "metadata": {},
   "outputs": [],
   "source": [
    "import numpy as np # linear algebra\n",
    "import pandas as pd # data processing, CSV file I/O (e.g. pd.read_csv)\n",
    "import sqlite3\n",
    "import matplotlib.pyplot as plt"
   ]
  },
  {
   "cell_type": "markdown",
   "metadata": {},
   "source": [
    "# Useful Info For loading Data\n",
    "https://www.kaggle.com/dimarudov/data-analysis-using-sql"
   ]
  },
  {
   "cell_type": "markdown",
   "metadata": {},
   "source": [
    "Below we connect to the database"
   ]
  },
  {
   "cell_type": "code",
   "execution_count": 2,
   "metadata": {},
   "outputs": [],
   "source": [
    "\n",
    "path = \"../input/\"  #Insert path here\n",
    "database = path + 'database.sqlite'\n",
    "\n",
    "conn = sqlite3.connect(database)"
   ]
  },
  {
   "cell_type": "markdown",
   "metadata": {},
   "source": [
    "We load att the games with home goal, away goal and betting odds for different companies"
   ]
  },
  {
   "cell_type": "code",
   "execution_count": 3,
   "metadata": {},
   "outputs": [
    {
     "data": {
      "text/plain": [
       "(25979, 32)"
      ]
     },
     "execution_count": 3,
     "metadata": {},
     "output_type": "execute_result"
    }
   ],
   "source": [
    "\n",
    "detailed_bets = pd.read_sql(\"\"\"SELECT home_team_goal, \n",
    "                                        away_team_goal,\n",
    "                                        B365H,\n",
    "                                        B365D,\n",
    "                                        B365A,\n",
    "                                        BWH,\n",
    "                                        BWD,\n",
    "                                        BWA,\n",
    "                                        IWH,\n",
    "                                        IWD,\n",
    "                                        IWA,\n",
    "                                        LBH,\n",
    "                                        LBD,\n",
    "                                        LBA,\n",
    "                                        PSH,\n",
    "                                        PSD,\n",
    "                                        PSA,\n",
    "                                        WHH,\n",
    "                                        WHD,\n",
    "                                        WHA,\n",
    "                                        SJH,\n",
    "                                        SJD,\n",
    "                                        SJA,\n",
    "                                        VCH,\n",
    "                                        VCD,\n",
    "                                        VCA,\n",
    "                                        GBH,\n",
    "                                        GBD,\n",
    "                                        GBA,\n",
    "                                        BSH,\n",
    "                                        BSD,\n",
    "                                        BSA\n",
    "                                        \n",
    "                                        \n",
    "                                FROM Match;\"\"\", conn)\n",
    "\n",
    "detailed_bets.shape"
   ]
  },
  {
   "cell_type": "markdown",
   "metadata": {},
   "source": [
    "We check all the columns and see if there are lots of NaNs, we noticed that certain betting companies have lots of them"
   ]
  },
  {
   "cell_type": "code",
   "execution_count": 4,
   "metadata": {},
   "outputs": [
    {
     "data": {
      "text/plain": [
       "home_team_goal        0\n",
       "away_team_goal        0\n",
       "B365H              3387\n",
       "B365D              3387\n",
       "B365A              3387\n",
       "BWH                3404\n",
       "BWD                3404\n",
       "BWA                3404\n",
       "IWH                3459\n",
       "IWD                3459\n",
       "IWA                3459\n",
       "LBH                3423\n",
       "LBD                3423\n",
       "LBA                3423\n",
       "PSH               14811\n",
       "PSD               14811\n",
       "PSA               14811\n",
       "WHH                3408\n",
       "WHD                3408\n",
       "WHA                3408\n",
       "SJH                8882\n",
       "SJD                8882\n",
       "SJA                8882\n",
       "VCH                3411\n",
       "VCD                3411\n",
       "VCA                3411\n",
       "GBH               11817\n",
       "GBD               11817\n",
       "GBA               11817\n",
       "BSH               11818\n",
       "BSD               11818\n",
       "BSA               11818\n",
       "dtype: int64"
      ]
     },
     "execution_count": 4,
     "metadata": {},
     "output_type": "execute_result"
    }
   ],
   "source": [
    "detailed_bets.isna().sum()"
   ]
  },
  {
   "cell_type": "markdown",
   "metadata": {},
   "source": [
    "We are dropping GB, BS, and PS betting companies because they have lots of nulls"
   ]
  },
  {
   "cell_type": "code",
   "execution_count": 5,
   "metadata": {},
   "outputs": [],
   "source": [
    "detailed_bets_filtered = pd.read_sql(\"\"\"SELECT home_team_goal, \n",
    "                                        away_team_goal,\n",
    "                                        B365H,\n",
    "                                        B365D,\n",
    "                                        B365A,\n",
    "                                        BWH,\n",
    "                                        BWD,\n",
    "                                        BWA,\n",
    "                                        IWH,\n",
    "                                        IWD,\n",
    "                                        IWA,\n",
    "                                        LBH,\n",
    "                                        LBD,\n",
    "                                        LBA,\n",
    "                                        WHH,\n",
    "                                        WHD,\n",
    "                                        WHA,\n",
    "                                        SJH,\n",
    "                                        SJD,\n",
    "                                        SJA,\n",
    "                                        VCH,\n",
    "                                        VCD,\n",
    "                                        VCA\n",
    "                                        \n",
    "                                        \n",
    "                                FROM Match;\"\"\", conn)"
   ]
  },
  {
   "cell_type": "markdown",
   "metadata": {},
   "source": [
    "We drop all the matches that have lots of naans and get 17 000 games"
   ]
  },
  {
   "cell_type": "code",
   "execution_count": 7,
   "metadata": {},
   "outputs": [
    {
     "data": {
      "text/plain": [
       "(16980, 23)"
      ]
     },
     "execution_count": 7,
     "metadata": {},
     "output_type": "execute_result"
    }
   ],
   "source": [
    "cleaned_bets = detailed_bets_filtered.dropna(thresh=23) #drops vals if there are more than 1 Nan\n",
    "\n",
    "cleaned_bets.shape"
   ]
  },
  {
   "cell_type": "code",
   "execution_count": null,
   "metadata": {},
   "outputs": [],
   "source": []
  }
 ],
 "metadata": {
  "kernelspec": {
   "display_name": "Python 3",
   "language": "python",
   "name": "python3"
  },
  "language_info": {
   "codemirror_mode": {
    "name": "ipython",
    "version": 3
   },
   "file_extension": ".py",
   "mimetype": "text/x-python",
   "name": "python",
   "nbconvert_exporter": "python",
   "pygments_lexer": "ipython3",
   "version": "3.6.5"
  }
 },
 "nbformat": 4,
 "nbformat_minor": 2
}
